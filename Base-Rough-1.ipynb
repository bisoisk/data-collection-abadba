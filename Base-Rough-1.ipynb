{
 "cells": [
  {
   "cell_type": "markdown",
   "metadata": {},
   "source": [
    "# Rough Curated Notebook\n",
    "\n",
    "\n",
    "\n",
    "\n"
   ]
  },
  {
   "cell_type": "code",
   "execution_count": 8,
   "metadata": {
    "collapsed": true
   },
   "outputs": [],
   "source": [
    "#Pre-requisite Data \n",
    "\n",
    "\n",
    "\n",
    "import numpy as np\n",
    "import pandas as pd\n",
    "import matplotlib.pyplot as plt\n",
    "from IPython.display import Image\n",
    "\n"
   ]
  },
  {
   "cell_type": "markdown",
   "metadata": {},
   "source": [
    "### How to know from Data data which type of machine learning algorithm will be used?\n",
    "### How can we know that which type of machine learning algorithm will be used from data?\n",
    "\n",
    "\n"
   ]
  },
  {
   "cell_type": "markdown",
   "metadata": {},
   "source": [
    "NB-https://blogs.sas.com/content/subconsciousmusings/2017/04/12/machine-learning-algorithm-use/\n",
    "\n",
    "\n",
    "A typical question asked by a beginner, when facing a wide variety of machine learning algorithms, is “which algorithm should I use?” The answer to the question varies depending on many factors, including:\n",
    "\n",
    "The size, quality, and nature of data.\n",
    "The available computational time.\n",
    "The urgency of the task.\n",
    "What you want to do with the data."
   ]
  },
  {
   "cell_type": "markdown",
   "metadata": {},
   "source": [
    "Which machine learning algorithm should I use?  8\n",
    "By Hui Li on Subconscious Musings April 12, 2017 Advanced Analytics | Machine Learning\n",
    "This resource is designed primarily for beginner to intermediate data scientists or analysts who are interested in identifying and applying machine learning algorithms to address the problems of their interest.\n",
    "\n",
    "A typical question asked by a beginner, when facing a wide variety of machine learning algorithms, is “which algorithm should I use?” The answer to the question varies depending on many factors, including:\n",
    "\n",
    "The size, quality, and nature of data.\n",
    "The available computational time.\n",
    "The urgency of the task.\n",
    "What you want to do with the data.\n",
    "Even an experienced data scientist cannot tell which algorithm will perform the best before trying different algorithms. We are not advocating a one and done approach, but we do hope to provide some guidance on which algorithms to try first depending on some clear factors.\n",
    "\n",
    "The machine learning algorithm cheat sheet\n",
    "Flow chart shows which algorithms to use when\n",
    "\n",
    "The machine learning algorithm cheat sheet helps you to choose from a variety of machine learning algorithms to find the appropriate algorithm for your specific problems. This article walks you through the process of how to use the sheet.\n",
    "\n",
    "Since the cheat sheet is designed for beginner data scientists and analysts, we will make some simplified assumptions when talking about the algorithms.\n",
    "\n",
    "The algorithms recommended here result from compiled feedback and tips from several data scientists and machine learning experts and developers. There are several issues on which we have not reached an agreement and for these issues we try to highlight the commonality and reconcile the difference.\n",
    "\n",
    "Additional algorithms will be added in later as our library grows to encompass a more complete set of available methods.\n",
    "\n",
    "How to use the cheat sheet\n",
    "Read the path and algorithm labels on the chart as \"If <path label> then use <algorithm>.\" For example:\n",
    "\n",
    "If you want to perform dimension reduction then use principal component analysis.\n",
    "If you need a numeric prediction quickly, use decision trees or logistic regression.\n",
    "If you need a hierarchical result, use hierarchical clustering.\n",
    "Sometimes more than one branch will apply, and other times none of them will be a perfect match. It’s important to remember these paths are intended to be rule-of-thumb recommendations, so some of the recommendations are not exact. Several data scientists I talked with said that the only sure way to find the very best algorithm is to try all of them.\n",
    "\n",
    "Types of machine learning algorithms\n",
    "This section provides an overview of the most popular types of machine learning. If you’re familiar with these categories and want to move on to discussing specific algorithms, you can skip this section and go to “When to use specific algorithms” below.\n",
    "\n",
    "Supervised learning\n",
    "Supervised learning algorithms make predictions based on a set of examples. For example, historical sales can be used to estimate the future prices. With supervised learning, you have an input variable that consists of labeled training data and a desired output variable. You use an algorithm to analyze the training data to learn the function that maps the input to the output. This inferred function maps new, unknown examples by generalizing from the training data to anticipate results in unseen situations.\n",
    "\n",
    "Classification: When the data are being used to predict a categorical variable, supervised learning is also called classification. This is the case when assigning a label or indicator, either dog or cat to an image. When there are only two labels, this is called binary classification. When there are more than two categories, the problems are called multi-class classification.\n",
    "Regression: When predicting continuous values, the problems become a regression problem.\n",
    "Forecasting: This is the process of making predictions about the future based on the past and present data. It is most commonly used to analyze trends. A common example might be estimation of the next year sales based on the sales of the current year and previous years.\n",
    "Semi-supervised learning\n",
    "The challenge with supervised learning is that labeling data can be expensive and time consuming. If labels are limited, you can use unlabeled examples to enhance supervised learning. Because the machine is not fully supervised in this case, we say the machine is semi-supervised. With semi-supervised learning, you use unlabeled examples with a small amount of labeled data to improve the learning accuracy.\n",
    "\n",
    "Unsupervised learning\n",
    "When performing unsupervised learning, the machine is presented with totally unlabeled data. It is asked to discover the intrinsic patterns that underlies the data, such as a clustering structure, a low-dimensional manifold, or a sparse tree and graph.\n",
    "\n",
    "Clustering: Grouping a set of data examples so that examples in one group (or one cluster) are more similar (according to some criteria) than those in other groups. This is often used to segment the whole dataset into several groups. Analysis can be performed in each group to help users to find intrinsic patterns.\n",
    "Dimension reduction: Reducing the number of variables under consideration. In many applications, the raw data have very high dimensional features and some features are redundant or irrelevant to the task. Reducing the dimensionality helps to find the true, latent relationship.\n",
    " Reinforcement learning\n",
    "Reinforcement learning analyzes and optimizes the behavior of an agent based on the feedback from the environment.  Machines try different scenarios to discover which actions yield the greatest reward, rather than being told which actions to take. Trial-and-error and delayed reward distinguishes reinforcement learning from other techniques.\n",
    "\n",
    "Considerations when choosing an algorithm\n",
    "When choosing an algorithm, always take these aspects into account: accuracy, training time and ease of use. Many users put the accuracy first, while beginners tend to focus on algorithms they know best.\n",
    "\n",
    "When presented with a dataset, the first thing to consider is how to obtain results, no matter what those results might look like. Beginners tend to choose algorithms that are easy to implement and can obtain results quickly. This works fine, as long as it is just the first step in the process. Once you obtain some results and become familiar with the data, you may spend more time using more sophisticated algorithms to strengthen your understanding of the data, hence further improving the results.\n",
    "\n",
    "Even in this stage, the best algorithms might not be the methods that have achieved the highest reported accuracy, as an algorithm usually requires careful tuning and extensive training to obtain its best achievable performance.\n",
    "\n",
    "When to use specific algorithms\n",
    "Looking more closely at individual algorithms can help you understand what they provide and how they are used. These descriptions provide more details and give additional tips for when to use specific algorithms, in alignment with the cheat sheet.\n",
    "\n",
    "Linear regression and Logistic regression    \n",
    "\n",
    "Linear regression\n",
    "\n",
    "Logistic regression\n",
    "\n",
    "Linear regression is an approach for modeling the relationship between a continuous dependent variable yy and one or more predictors XX. The relationship between yy and XX can be linearly modeled as y=βTX+ϵy=βTX+ϵ Given the training examples {xi,yi}Ni=1{xi,yi}i=1N, the parameter vector ββ can be learnt.\n",
    "\n",
    "If the dependent variable is not continuous but categorical, linear regression can be transformed to logistic regression using a logit link function. Logistic regression is a simple, fast yet powerful classification algorithm. Here we discuss the binary case where the dependent variable yy only takes binary values {yi∈(−1,1)}Ni=1{yi∈(−1,1)}i=1N (it which can be easily extended to multi-class classification problems).\n",
    "\n",
    "In logistic regression we use a different hypothesis class to try to predict the probability that a given example belongs to the \"1\" class versus the probability that it belongs to the \"-1\" class. Specifically, we will try to learn a function of the form:p(yi=1|xi)=σ(βTxi)p(yi=1|xi)=σ(βTxi) and p(yi=−1|xi)=1−σ(βTxi)p(yi=−1|xi)=1−σ(βTxi). Here σ(x)=11+exp(−x)σ(x)=11+exp(−x) is a sigmoid function. Given the training examples{xi,yi}Ni=1{xi,yi}i=1N, the parameter vector ββ can be learnt by maximizing the log-likelihood of ββ given the data set.\n",
    "\n",
    "\n",
    "Group By Linear Regression\n",
    "\n",
    "Logistic Regression in SAS Visual Analytics\n",
    "\n",
    "Linear SVM and kernel SVM\n",
    "Kernel tricks are used to map a non-linearly separable functions into a higher dimension linearly separable function. A support vector machine (SVM) training algorithm finds the classifier represented by the normal vector ww and bias bb of the hyperplane. This hyperplane (boundary) separates different classes by as wide a margin as possible. The problem can be converted into a constrained optimization problem:\n",
    "minimizewsubject to||w||yi(wTXi−b)≥1,i=1,…,n.\n",
    "minimizew||w||subject toyi(wTXi−b)≥1,i=1,…,n.\n",
    "A support vector machine (SVM) training algorithm finds the classifier represented by the normal vector  and bias  of the hyperplane. This hyperplane (boundary) separates different classes by as wide a margin as possible. The problem can be converted into a constrained optimization problem:\n",
    "\n",
    "Linear and kernel SVM charts\n",
    "Kernel tricks are used to map a non-linearly separable functions into a higher dimension linearly separable function.\n",
    "When the classes are not linearly separable, a kernel trick can be used to map a non-linearly separable space into a higher dimension linearly separable space.\n",
    "\n",
    "When most dependent variables are numeric, logistic regression and SVM should be the first try for classification. These models are easy to implement, their parameters easy to tune, and the performances are also pretty good. So these models are appropriate for beginners.\n",
    "\n",
    "Trees and ensemble trees\n",
    "A decision tree for prediction model.\n",
    "A decision tree for prediction model\n",
    "Decision trees, random forest and gradient boosting are all algorithms based on decision trees.  There are many variants of decision trees, but they all do the same thing – subdivide the feature space into regions with mostly the same label. Decision trees are easy to understand and implement. However, they tend to over fit data when we exhaust the branches and go very deep with the trees. Random Forrest and gradient boosting are two popular ways to use tree algorithms to achieve good accuracy as well as overcoming the over-fitting problem.\n",
    "\n",
    "Neural networks and deep learning\n",
    "\n",
    "A convolution neural network architecture (image source: wikipedia creative commons)\n",
    "Neural networks flourished in the mid-1980s due to their parallel and distributed processing ability.  But research in this field was impeded by the ineffectiveness of the back-propagation training algorithm that is widely used to optimize the parameters of neural networks. Support vector machines (SVM) and other simpler models, which can be easily trained by solving convex optimization problems, gradually replaced neural networks in machine learning.\n",
    "\n",
    "In recent years, new and improved training techniques such as unsupervised pre-training and layer-wise greedy training have led to a resurgence of interest in neural networks. Increasingly powerful computational capabilities, such as graphical processing unit (GPU) and massively parallel processing (MPP), have also spurred the revived adoption of neural networks. The resurgent research in neural networks has given rise to the invention of models with thousands of layers.\n",
    "\n",
    "A neural network\n",
    "A neural network in SAS Visual Analytics\n",
    "In other words, shallow neural networks have evolved into deep learning neural networks. Deep neural networks have been very successful for supervised learning.  When used for speech and image recognition, deep learning performs as well as, or even better than, humans. Applied to unsupervised learning tasks, such as feature extraction, deep learning also extracts features from raw images or speech with much less human intervention.\n",
    "\n",
    "A neural network consists of three parts: input layer, hidden layers and output layer.  The training samples define the input and output layers. When the output layer is a categorical variable, then the neural network is a way to address classification problems. When the output layer is a continuous variable, then the network can be used to do regression. When the output layer is the same as the input layer, the network can be used to extract intrinsic features. The number of hidden layers defines the model complexity and modeling capacity.\n",
    "\n",
    "k-means/k-modes, GMM (Gaussian mixture model) clustering\n",
    "\n",
    "K Means Clustering\n",
    "\n",
    "Gaussian Mixture Model\n",
    "\n",
    "Kmeans/k-modes, GMM clustering aims to partition n observations into k clusters. K-means define hard assignment: the samples are to be and only to be associated to one cluster. GMM, however define a soft assignment for each sample. Each sample has a probability to be associated with each cluster. Both algorithms are simple and fast enough for clustering when the number of clusters k is given.\n",
    "\n",
    "DBSCAN\n",
    " \n",
    "\n",
    "A DBSCAN illustration\n",
    "A DBSCAN illustration (image source: Wikipedia)\n",
    "When the number of clusters k is not given, DBSCAN (density-based spatial clustering) can be used by connecting samples through density diffusion.\n",
    "\n",
    "Hierarchical clustering\n",
    "\n",
    "\n",
    "Hierarchical partitions can be visualized using a tree structure (a dendrogram). It does not need the number of clusters as an input and the partitions can be viewed at different levels of granularities (i.e., can refine/coarsen clusters) using different K.\n",
    "\n",
    "PCA, SVD and LDA\n",
    "We generally do not want to feed a large number of features directly into a machine learning algorithm since some features may be irrelevant or the “intrinsic” dimensionality may be smaller than the number of features. Principal component analysis (PCA), singular value decomposition (SVD), and latent Dirichlet allocation (LDA) all can be used to perform dimension reduction.\n",
    "\n",
    "PCA is an unsupervised clustering method which maps the original data space into a lower dimensional space while preserving as much information as possible. The PCA basically finds a subspace that most preserves the data variance, with the subspace defined by the dominant eigenvectors of the data’s covariance matrix.\n",
    "\n",
    "The SVD is related to PCA in the sense that SVD of the centered data matrix (features versus samples) provides the dominant left singular vectors that define the same subspace as found by PCA. However, SVD is a more versatile technique as it can also do things that PCA may not do. For example, the SVD of a user-versus-movie matrix is able to extract the user profiles and movie profiles which can be used in a recommendation system. In addition, SVD is also widely used as a topic modeling tool, known as latent semantic analysis, in natural language processing (NLP).\n",
    "\n",
    "A related technique in NLP is latent Dirichlet allocation (LDA). LDA is probabilistic topic model and it decomposes documents into topics in a similar way as a Gaussian mixture model (GMM) decomposes continuous data into Gaussian densities. Differently from the GMM, an LDA models discrete data (words in documents) and it constrains that the topics are a priori distributed according to a Dirichlet distribution.\n",
    "\n",
    " Conclusions\n",
    "This is the work flow which is easy to follow. The takeaway messages when trying to solve a new problem are:\n",
    "\n",
    "Define the problem. What problems do you want to solve?\n",
    "Start simple. Be familiar with the data and the baseline results.\n",
    "Then try something more complicated."
   ]
  },
  {
   "cell_type": "code",
   "execution_count": 10,
   "metadata": {
    "scrolled": true
   },
   "outputs": [
    {
     "data": {
      "image/png": "[encoded data removed]",
      "text/plain": [
       "<IPython.core.display.Image object>"
      ]
     },
     "execution_count": 10,
     "metadata": {},
     "output_type": "execute_result"
    }
   ],
   "source": [
    "Comparision_algorithm_Image=Image(filename = 'Supporting_Files/machine-learning-cheet-sheet.png') \n",
    "Comparision_algorithm_Image"
   ]
  },
  {
   "cell_type": "markdown",
   "metadata": {},
   "source": [
    "Machine Learning is the foundation for today’s insights on customer, products, costs and revenues which learns from the data provided to its algorithms.\n",
    "Some of the most common examples of machine learning are Netflix’s algorithms to give movie suggestions based on movies you have watched in the past or Amazon’s algorithms that recommend products based on other customers bought before.\n",
    "Typical algorithm model selection can be decided broadly on following questions:\n",
    "·        How much data do you have & is it continuous?\n",
    "·        Is it classification or regression problem?\n",
    "·        Predefined variables (Labeled), unlabeled or mix?\n",
    "·        Data class skewed?\n",
    "·        What is the goal? – predict or rank?\n",
    "·        Result interpretation easy or hard?\n",
    "Here are the most used algorithms for various business problems:\n",
    " \n",
    "Decision Trees: Decision tree output is very easy to understand even for people from non-analytical background. It does not require any statistical knowledge to read and interpret them. Fastest way to identify most significant variables and relation between two or more variables. Decision Trees are excellent tools for helping you to choose between several courses of action. Most popular decision trees are CART, CHAID, and C4.5 etc.\n",
    "In general, decision trees can be used in real-world applications such as:\n",
    "·        Investment decisions\n",
    "·        Customer churn\n",
    "·        Banks loan defaulters\n",
    "·        Build vs Buy decisions\n",
    "·        Company mergers decisions\n",
    "·        Sales lead qualifications\n",
    " \n",
    "Logistic Regression: Logistic regression is a powerful statistical way of modeling a binomial outcome with one or more explanatory variables. It measures the relationship between the categorical dependent variable and one or more independent variables by estimating probabilities using a logistic function, which is the cumulative logistic distribution.\n",
    "In general, regressions can be used in real-world applications such as:\n",
    "·        Predicting the Customer Churn\n",
    "·        Credit Scoring & Fraud Detection\n",
    "·        Measuring the effectiveness of marketing campaigns\n",
    " \n",
    "Support Vector Machines: Support Vector Machine (SVM) is a supervised machine learning technique that is widely used in pattern recognition and classification problems - when your data has exactly two classes.\n",
    "In general, SVM can be used in real-world applications such as:\n",
    "·        detecting persons with common diseases such as diabetes\n",
    "·        hand-written character recognition\n",
    "·        text categorization – news articles by topics\n",
    "·        stock market price prediction\n",
    " \n",
    "Naive Bayes: It is a classification technique based on Bayes’ theorem and very easy to build and particularly useful for very large data sets. Along with simplicity, Naive Bayes is known to outperform even highly sophisticated classification methods. Naive Bayes is also a good choice when CPU and memory resources are a limiting factor\n",
    "In general, Naive Bayes can be used in real-world applications such as:\n",
    "·        Sentiment analysis and text classification\n",
    "·        Recommendation systems like Netflix, Amazon\n",
    "·        To mark an email as spam or not spam\n",
    "·        Facebook like face recognition\n",
    " \n",
    "Apriori: This algorithm generates association rules from a given data set. Association rule implies that if an item A occurs, then item B also occurs with a certain probability.\n",
    "In general, Apriori can be used in real-world applications such as:\n",
    "·        Market basket analysis like amazon - products purchased together\n",
    "·        Auto complete functionality like Google to provide words which come together\n",
    "·        Identify Drugs and their effects on patients\n",
    " \n",
    "Random Forest: is an ensemble of decision trees. It can solve both regression and classification problems with large data sets. It also helps identify most significant variables from thousands of input variables.\n",
    "In general, Random Forest can be used in real-world applications such as:\n",
    "·        Predict patients for high risks\n",
    "·        Predict parts failures in manufacturing\n",
    "·        Predict loan defaulters\n",
    "The most powerful form of machine learning being used today, is called  “Deep Learning”.\n",
    "In today’s  Digital Transformation age, most businesses will tap into machine learning algorithms for their operational and customer-facing functions"
   ]
  },
  {
   "cell_type": "markdown",
   "metadata": {},
   "source": [
    "## Checking out the data\n",
    "\n",
    "This dataset has the number of riders for each hour of each day from January 1 2011 to December 31 2012. The number of riders is split between casual and registered, summed up in the `cnt` column. You can see the first few rows of the data above.\n",
    "\n",
    "Below is a plot showing the number of bike riders over the first 10 days in the data set. You can see the hourly rentals here. This data is pretty complicated! The weekends have lower over all ridership and there are spikes when people are biking to and from work during the week. Looking at the data above, we also have information about temperature, humidity, and windspeed, all of these likely affecting the number of riders. You'll be trying to capture all this with your model."
   ]
  },
  {
   "cell_type": "code",
   "execution_count": null,
   "metadata": {
    "collapsed": true,
    "scrolled": true
   },
   "outputs": [],
   "source": [
    "rides[:24*10].plot(x='dteday', y='cnt')"
   ]
  },
  {
   "cell_type": "markdown",
   "metadata": {},
   "source": [
    "### Dummy variables\n",
    "Here we have some categorical variables like season, weather, month. To include these in our model, we'll need to make binary dummy variables. This is simple to do with Pandas thanks to `get_dummies()`."
   ]
  },
  {
   "cell_type": "code",
   "execution_count": null,
   "metadata": {
    "collapsed": true
   },
   "outputs": [],
   "source": [
    "dummy_fields = ['season', 'weathersit', 'mnth', 'hr', 'weekday']\n",
    "for each in dummy_fields:\n",
    "    dummies = pd.get_dummies(rides[each], prefix=each, drop_first=False)\n",
    "    rides = pd.concat([rides, dummies], axis=1)\n",
    "\n",
    "fields_to_drop = ['instant', 'dteday', 'season', 'weathersit', \n",
    "                  'weekday', 'atemp', 'mnth', 'workingday', 'hr']\n",
    "data = rides.drop(fields_to_drop, axis=1)\n",
    "data.head()"
   ]
  },
  {
   "cell_type": "markdown",
   "metadata": {},
   "source": [
    "### Scaling target variables\n",
    "To make training the network easier, we'll standardize each of the continuous variables. That is, we'll shift and scale the variables such that they have zero mean and a standard deviation of 1.\n",
    "\n",
    "The scaling factors are saved so we can go backwards when we use the network for predictions."
   ]
  },
  {
   "cell_type": "code",
   "execution_count": null,
   "metadata": {
    "collapsed": true
   },
   "outputs": [],
   "source": [
    "quant_features = ['casual', 'registered', 'cnt', 'temp', 'hum', 'windspeed']\n",
    "# Store scalings in a dictionary so we can convert back later\n",
    "scaled_features = {}\n",
    "for each in quant_features:\n",
    "    mean, std = data[each].mean(), data[each].std()\n",
    "    scaled_features[each] = [mean, std]\n",
    "    data.loc[:, each] = (data[each] - mean)/std"
   ]
  },
  {
   "cell_type": "markdown",
   "metadata": {},
   "source": [
    "### Splitting the data into training, testing, and validation sets\n",
    "\n",
    "We'll save the last 21 days of the data to use as a test set after we've trained the network. We'll use this set to make predictions and compare them with the actual number of riders."
   ]
  },
  {
   "cell_type": "code",
   "execution_count": null,
   "metadata": {
    "collapsed": true
   },
   "outputs": [],
   "source": [
    "# Save the last 21 days \n",
    "test_data = data[-21*24:]\n",
    "data = data[:-21*24]\n",
    "\n",
    "# Separate the data into features and targets\n",
    "target_fields = ['cnt', 'casual', 'registered']\n",
    "features, targets = data.drop(target_fields, axis=1), data[target_fields]\n",
    "test_features, test_targets = test_data.drop(target_fields, axis=1), test_data[target_fields]"
   ]
  },
  {
   "cell_type": "markdown",
   "metadata": {},
   "source": [
    "We'll split the data into two sets, one for training and one for validating as the network is being trained. Since this is time series data, we'll train on historical data, then try to predict on future data (the validation set)."
   ]
  },
  {
   "cell_type": "code",
   "execution_count": null,
   "metadata": {
    "collapsed": true
   },
   "outputs": [],
   "source": [
    "# Hold out the last 60 days of the remaining data as a validation set\n",
    "train_features, train_targets = features[:-60*24], targets[:-60*24]\n",
    "val_features, val_targets = features[-60*24:], targets[-60*24:]"
   ]
  },
  {
   "cell_type": "markdown",
   "metadata": {},
   "source": [
    "## Time to build the network\n",
    "\n",
    "Below you'll build your network. We've built out the structure and the backwards pass. You'll implement the forward pass through the network. You'll also set the hyperparameters: the learning rate, the number of hidden units, and the number of training passes.\n",
    "\n",
    "The network has two layers, a hidden layer and an output layer. The hidden layer will use the sigmoid function for activations. The output layer has only one node and is used for the regression, the output of the node is the same as the input of the node. That is, the activation function is $f(x)=x$. A function that takes the input signal and generates an output signal, but takes into account the threshold, is called an activation function. We work through each layer of our network calculating the outputs for each neuron. All of the outputs from one layer become inputs to the neurons on the next layer. This process is called *forward propagation*.\n",
    "\n",
    "We use the weights to propagate signals forward from the input to the output layers in a neural network. We use the weights to also propagate error backwards from the output back into the network to update our weights. This is called *backpropagation*.\n",
    "\n",
    "> **Hint:** You'll need the derivative of the output activation function ($f(x) = x$) for the backpropagation implementation. If you aren't familiar with calculus, this function is equivalent to the equation $y = x$. What is the slope of that equation? That is the derivative of $f(x)$.\n",
    "\n",
    "Below, you have these tasks:\n",
    "1. Implement the sigmoid function to use as the activation function. Set `self.activation_function` in `__init__` to your sigmoid function.\n",
    "2. Implement the forward pass in the `train` method.\n",
    "3. Implement the backpropagation algorithm in the `train` method, including calculating the output error.\n",
    "4. Implement the forward pass in the `run` method.\n",
    "  "
   ]
  },
  {
   "cell_type": "code",
   "execution_count": null,
   "metadata": {
    "collapsed": true
   },
   "outputs": [],
   "source": [
    "class NeuralNetwork(object):\n",
    "    def __init__(self, input_nodes, hidden_nodes, output_nodes, learning_rate):\n",
    "        # Set number of nodes in input, hidden and output layers.\n",
    "        self.input_nodes = input_nodes\n",
    "        self.hidden_nodes = hidden_nodes\n",
    "        self.output_nodes = output_nodes\n",
    "\n",
    "        # Initialize weights\n",
    "        self.weights_input_to_hidden = np.random.normal(0.0, self.hidden_nodes**-0.5, \n",
    "                                       (self.hidden_nodes, self.input_nodes))\n",
    "\n",
    "        self.weights_hidden_to_output = np.random.normal(0.0, self.output_nodes**-0.5, \n",
    "                                       (self.output_nodes, self.hidden_nodes))\n",
    "        self.lr = learning_rate\n",
    "        \n",
    "        #### Set this to your implemented sigmoid function ####\n",
    "        # Activation function is the sigmoid function\n",
    "        self.activation_function = lambda x: 1.0 / (1 + np.exp(-x))\n",
    "        self.bias = 0.01\n",
    "    \n",
    "    def train(self, inputs_list, targets_list):\n",
    "        # Convert inputs list to 2d array\n",
    "        inputs = np.array(inputs_list, ndmin=2).T\n",
    "        targets = np.array(targets_list, ndmin=2).T\n",
    "        \n",
    "        n_records, n_features = inputs.shape\n",
    "        \n",
    "        #### Implement the forward pass here ####\n",
    "        ### Forward pass ###\n",
    "        # TODO: Hidden latyer\n",
    "        hidden_inputs = np.dot(self.weights_input_to_hidden, inputs) # signals into hidden layer\n",
    "        hidden_outputs = self.activation_function(hidden_inputs) # signals from hidden layer\n",
    "        \n",
    "        # TODO: Output layer\n",
    "        final_inputs = np.dot(self.weights_hidden_to_output, hidden_outputs) # signals into final output layer\n",
    "        final_outputs = final_inputs # signals from final output layer\n",
    "        \n",
    "        #### Implement the backward pass here ####\n",
    "        ### Backward pass ###\n",
    "        \n",
    "        # TODO: Output error\n",
    "        output_errors = targets - final_outputs # Output layer error is the difference between desired target and actual output.\n",
    "    \n",
    "        # TODO: Backpropagated error\n",
    "        #hidden_errors = np.dot(output_errors, self.weights_hidden_to_output) # errors propagated to the hidden layer\n",
    "        hidden_errors = np.dot(self.weights_hidden_to_output.T, output_errors)\n",
    "        #hidden_grad = hidden_errors.T * hidden_outputs * (1 - hidden_outputs) # hidden layer gradients\n",
    "        hidden_grad = hidden_outputs * (1 - hidden_outputs)\n",
    "\n",
    "        # TODO: Update the weights\n",
    "        #self.weights_hidden_to_output += self.lr  * np.dot(output_errors, hidden_outputs.T) # update hidden-to-output weights with gradient descent step\n",
    "        #self.weights_input_to_hidden  += self.lr  * hidden_grad * inputs.T # update input-to-hidden weights with gradient descent step\n",
    "        self.weights_hidden_to_output += self.lr * output_errors * hidden_outputs.T\n",
    "        self.weights_input_to_hidden += self.lr * np.dot((hidden_errors * hidden_grad), inputs.T)\n",
    "        \n",
    "        \n",
    "    def run(self, inputs_list):\n",
    "        # Run a forward pass through the network\n",
    "        inputs = np.array(inputs_list, ndmin=2).T\n",
    "        \n",
    "        #### Implement the forward pass here ####\n",
    "        # TODO: Hidden layer\n",
    "        hidden_inputs = np.dot(self.weights_input_to_hidden, inputs) # signals into hidden layer\n",
    "        hidden_outputs = self.activation_function(hidden_inputs) # signals from hidden layer\n",
    "        \n",
    "        # TODO: Output layer\n",
    "        final_inputs = np.dot(self.weights_hidden_to_output,hidden_outputs) # signals into final output layer\n",
    "        final_outputs = final_inputs # signals from final output layer \n",
    "\n",
    "        return final_outputs"
   ]
  },
  {
   "cell_type": "code",
   "execution_count": null,
   "metadata": {
    "collapsed": true
   },
   "outputs": [],
   "source": [
    "def MSE(y, Y):\n",
    "    return np.mean((y-Y)**2)"
   ]
  },
  {
   "cell_type": "markdown",
   "metadata": {},
   "source": [
    "## Unit tests\n",
    "\n",
    "Run these unit tests to check the correctness of your network implementation. These tests must all be successful to pass the project."
   ]
  },
  {
   "cell_type": "code",
   "execution_count": null,
   "metadata": {
    "collapsed": true
   },
   "outputs": [],
   "source": [
    "import unittest\n",
    "\n",
    "inputs = [0.5, -0.2, 0.1]\n",
    "targets = [0.4]\n",
    "test_w_i_h = np.array([[0.1, 0.4, -0.3], \n",
    "                       [-0.2, 0.5, 0.2]])\n",
    "test_w_h_o = np.array([[0.3, -0.1]])\n",
    "\n",
    "class TestMethods(unittest.TestCase):\n",
    "    \n",
    "    ##########\n",
    "    # Unit tests for data loading\n",
    "    ##########\n",
    "    \n",
    "    def test_data_path(self):\n",
    "        # Test that file path to dataset has been unaltered\n",
    "        self.assertTrue(data_path.lower() == 'bike-sharing-dataset/hour.csv')\n",
    "        \n",
    "    def test_data_loaded(self):\n",
    "        # Test that data frame loaded\n",
    "        self.assertTrue(isinstance(rides, pd.DataFrame))\n",
    "    \n",
    "    ##########\n",
    "    # Unit tests for network functionality\n",
    "    ##########\n",
    "\n",
    "    def test_activation(self):\n",
    "        network = NeuralNetwork(3, 2, 1, 0.5)\n",
    "        # Test that the activation function is a sigmoid\n",
    "        self.assertTrue(np.all(network.activation_function(0.5) == 1/(1+np.exp(-0.5))))\n",
    "\n",
    "    def test_train(self):\n",
    "        # Test that weights are updated correctly on training\n",
    "        network = NeuralNetwork(3, 2, 1, 0.5)\n",
    "        network.weights_input_to_hidden = test_w_i_h.copy()\n",
    "        network.weights_hidden_to_output = test_w_h_o.copy()\n",
    "        \n",
    "        network.train(inputs, targets)\n",
    "        self.assertTrue(np.allclose(network.weights_hidden_to_output, \n",
    "                                    np.array([[ 0.37275328, -0.03172939]])))\n",
    "        self.assertTrue(np.allclose(network.weights_input_to_hidden,\n",
    "                                    np.array([[ 0.10562014,  0.39775194, -0.29887597],\n",
    "                                              [-0.20185996,  0.50074398,  0.19962801]])))\n",
    "\n",
    "    def test_run(self):\n",
    "        # Test correctness of run method\n",
    "        network = NeuralNetwork(3, 2, 1, 0.5)\n",
    "        network.weights_input_to_hidden = test_w_i_h.copy()\n",
    "        network.weights_hidden_to_output = test_w_h_o.copy()\n",
    "\n",
    "        self.assertTrue(np.allclose(network.run(inputs), 0.09998924))\n",
    "\n",
    "suite = unittest.TestLoader().loadTestsFromModule(TestMethods())\n",
    "unittest.TextTestRunner().run(suite)"
   ]
  },
  {
   "cell_type": "code",
   "execution_count": null,
   "metadata": {
    "collapsed": true
   },
   "outputs": [],
   "source": [
    "import sys\n",
    "\n",
    "### Set the hyperparameters here ###\n",
    "epochs = 9000\n",
    "learning_rate = 0.03\n",
    "hidden_nodes =8\n",
    "output_nodes = 1\n",
    "\n",
    "N_i = train_features.shape[1]\n",
    "network = NeuralNetwork(N_i, hidden_nodes, output_nodes, learning_rate)\n",
    "\n",
    "losses = {'train':[], 'validation':[]}\n",
    "for e in range(epochs):\n",
    "    # Go through a random batch of 128 records from the training data set\n",
    "    batch = np.random.choice(train_features.index, size=128)\n",
    "    for record, target in zip(train_features.ix[batch].values, \n",
    "                              train_targets.ix[batch]['cnt']):\n",
    "        network.train(record, target)\n",
    "    \n",
    "    # Printing out the training progress\n",
    "    train_loss = MSE(network.run(train_features), train_targets['cnt'].values)\n",
    "    val_loss = MSE(network.run(val_features), val_targets['cnt'].values)\n",
    "    sys.stdout.write(\"\\rProgress: \" + str(100 * e/float(epochs))[:4] \\\n",
    "                     + \"% ... Training loss: \" + str(train_loss)[:5] \\\n",
    "                     + \" ... Validation loss: \" + str(val_loss)[:5])\n",
    "    \n",
    "    losses['train'].append(train_loss)\n",
    "    losses['validation'].append(val_loss)"
   ]
  },
  {
   "cell_type": "markdown",
   "metadata": {},
   "source": [
    "## Training the network\n",
    "\n",
    "Here you'll set the hyperparameters for the network. The strategy here is to find hyperparameters such that the error on the training set is low, but you're not overfitting to the data. If you train the network too long or have too many hidden nodes, it can become overly specific to the training set and will fail to generalize to the validation set. That is, the loss on the validation set will start increasing as the training set loss drops.\n",
    "\n",
    "You'll also be using a method know as Stochastic Gradient Descent (SGD) to train the network. The idea is that for each training pass, you grab a random sample of the data instead of using the whole data set. You use many more training passes than with normal gradient descent, but each pass is much faster. This ends up training the network more efficiently. You'll learn more about SGD later.\n",
    "\n",
    "### Choose the number of epochs\n",
    "This is the number of times the dataset will pass through the network, each time updating the weights. As the number of epochs increases, the network becomes better and better at predicting the targets in the training set. You'll need to choose enough epochs to train the network well but not too many or you'll be overfitting.\n",
    "\n",
    "### Choose the learning rate\n",
    "This scales the size of weight updates. If this is too big, the weights tend to explode and the network fails to fit the data. A good choice to start at is 0.1. If the network has problems fitting the data, try reducing the learning rate. Note that the lower the learning rate, the smaller the steps are in the weight updates and the longer it takes for the neural network to converge.\n",
    "\n",
    "### Choose the number of hidden nodes\n",
    "The more hidden nodes you have, the more accurate predictions the model will make. Try a few different numbers and see how it affects the performance. You can look at the losses dictionary for a metric of the network performance. If the number of hidden units is too low, then the model won't have enough space to learn and if it is too high there are too many options for the direction that the learning can take. The trick here is to find the right balance in number of hidden units you choose."
   ]
  },
  {
   "cell_type": "code",
   "execution_count": null,
   "metadata": {
    "collapsed": true
   },
   "outputs": [],
   "source": [
    "plt.plot(losses['train'], label='Training loss')\n",
    "plt.plot(losses['validation'], label='Validation loss')\n",
    "plt.legend()\n",
    "plt.ylim(ymax=0.5)"
   ]
  },
  {
   "cell_type": "markdown",
   "metadata": {},
   "source": [
    "## Check out your predictions\n",
    "\n",
    "Here, use the test data to view how well your network is modeling the data. If something is completely wrong here, make sure each step in your network is implemented correctly."
   ]
  },
  {
   "cell_type": "code",
   "execution_count": null,
   "metadata": {
    "collapsed": true
   },
   "outputs": [],
   "source": [
    "fig, ax = plt.subplots(figsize=(8,4))\n",
    "\n",
    "mean, std = scaled_features['cnt']\n",
    "predictions = network.run(test_features)*std + mean\n",
    "ax.plot(predictions[0], label='Prediction')\n",
    "ax.plot((test_targets['cnt']*std + mean).values, label='Data')\n",
    "ax.set_xlim(right=len(predictions))\n",
    "ax.legend()\n",
    "\n",
    "dates = pd.to_datetime(rides.ix[test_data.index]['dteday'])\n",
    "dates = dates.apply(lambda d: d.strftime('%b %d'))\n",
    "ax.set_xticks(np.arange(len(dates))[12::24])\n",
    "_ = ax.set_xticklabels(dates[12::24], rotation=45)"
   ]
  },
  {
   "cell_type": "markdown",
   "metadata": {},
   "source": [
    "## Thinking about your results\n",
    " \n",
    "Answer these questions about your results. How well does the model predict the data? Where does it fail? Why does it fail where it does?\n",
    "\n",
    "> **Note:** You can edit the text in this cell by double clicking on it. When you want to render the text, press control + enter\n",
    "\n",
    "#### Your answer below"
   ]
  },
  {
   "cell_type": "code",
   "execution_count": 1,
   "metadata": {
    "collapsed": true
   },
   "outputs": [],
   "source": [
    "class NeuralNetwork(object):\n",
    "    def __init__(self, input_nodes, hidden_nodes, output_nodes, learning_rate):\n",
    "        # Set number of nodes in input, hidden and output layers.\n",
    "        self.input_nodes = input_nodes\n",
    "        self.hidden_nodes = hidden_nodes\n",
    "        self.output_nodes = output_nodes\n",
    "\n",
    "        # Initialize weights\n",
    "        self.weights_input_to_hidden = np.random.normal(0.0, self.input_nodes**-0.5, \n",
    "                                       (self.input_nodes, self.hidden_nodes))\n",
    "\n",
    "        self.weights_hidden_to_output = np.random.normal(0.0, self.hidden_nodes**-0.5, \n",
    "                                       (self.hidden_nodes, self.output_nodes))\n",
    "        self.lr = learning_rate\n",
    "        \n",
    "        #### TODO: Set self.activation_function to your implemented sigmoid function ####\n",
    "        #\n",
    "        # Note: in Python, you can define a function with a lambda expression,\n",
    "        # as shown below.\n",
    "        #self.activation_function = lambda x : 0  # Replace 0 with your sigmoid calculation.\n",
    "        self.activation_function = lambda x : 1 / (1 + np.exp(-x))\n",
    "        \n",
    "        ### If the lambda code above is not something you're familiar with,\n",
    "        # You can uncomment out the following three lines and put your \n",
    "        # implementation there instead.\n",
    "        #\n",
    "        #def sigmoid(x):\n",
    "        #    return 0  # Replace 0 with your sigmoid calculation here\n",
    "        #self.activation_function = sigmoid\n",
    "                    \n",
    "    \n",
    "    def train(self, features, targets):\n",
    "        ''' Train the network on batch of features and targets. \n",
    "        \n",
    "            Arguments\n",
    "            ---------\n",
    "            \n",
    "            features: 2D array, each row is one data record, each column is a feature\n",
    "            targets: 1D array of target values\n",
    "        \n",
    "        '''\n",
    "        n_records = features.shape[0]\n",
    "        delta_weights_i_h = np.zeros(self.weights_input_to_hidden.shape)\n",
    "        delta_weights_h_o = np.zeros(self.weights_hidden_to_output.shape)\n",
    "        for X, y in zip(features, targets):\n",
    "            #### Implement the forward pass here ####\n",
    "            ### Forward pass ###\n",
    "            # TODO: Hidden layer - Replace these values with your calculations.\n",
    "            hidden_inputs = np.dot(X, self.weights_input_to_hidden) # signals into hidden layer            \n",
    "            hidden_outputs = self.activation_function(hidden_inputs) # signals from hidden layer\n",
    "\n",
    "            # TODO: Output layer - Replace these values with your calculations.\n",
    "            final_inputs = np.dot(hidden_outputs, self.weights_hidden_to_output) # signals into final output layer\n",
    "            final_outputs = final_inputs # signals from final output layer\n",
    "            \n",
    "            #### Implement the backward pass here ####\n",
    "            ### Backward pass ###\n",
    "\n",
    "            # TODO: Output error - Replace this value with your calculations.\n",
    "            error = y - final_outputs # Output layer error is the difference between desired target and actual output.\n",
    "            \n",
    "            # TODO: Calculate the hidden layer's contribution to the error\n",
    "            hidden_error = error\n",
    "            \n",
    "            # TODO: Backpropagated error terms - Replace these values with your calculations.\n",
    "            output_error_term = error * final_outputs * (1 - final_outputs)\n",
    "            hidden_error_term = output_error_term\n",
    "\n",
    "            # Weight step (input to hidden)\n",
    "            delta_weights_i_h += hidden_error_term * x[:, None]\n",
    "            # Weight step (hidden to output)\n",
    "            delta_weights_h_o += output_error_term * hidden_outputs[:, None]\n",
    "\n",
    "        # TODO: Update the weights - Replace these values with your calculations.\n",
    "        self.weights_hidden_to_output += self.lr * delta_weights_h_o / n_records # update hidden-to-output weights with gradient descent step\n",
    "        self.weights_input_to_hidden += self.lr * delta_weights_i_h / n_records # update input-to-hidden weights with gradient descent step\n",
    " \n",
    "    def run(self, features):\n",
    "        ''' Run a forward pass through the network with input features \n",
    "        \n",
    "            Arguments\n",
    "            ---------\n",
    "            features: 1D array of feature values\n",
    "        '''\n",
    "        \n",
    "        #### Implement the forward pass here ####\n",
    "        # TODO: Hidden layer - replace these values with the appropriate calculations.\n",
    "        hidden_inputs = np.dot(features, self.weights_input_to_hidden) # signals into hidden layer\n",
    "        hidden_outputs = self.activation_function(hidden_inputs) # signals from hidden layer\n",
    "        \n",
    "        # TODO: Output layer - Replace these values with the appropriate calculations.\n",
    "        final_inputs = np.dot(hidden_outputs, self.weights_hidden_to_output) # signals into final output layer\n",
    "        final_outputs = final_inputs # signals from final output layer \n",
    "        \n",
    "        return final_outputs"
   ]
  },
  {
   "cell_type": "markdown",
   "metadata": {
    "collapsed": true
   },
   "source": [
    "#### How machine learning is practiced..means what is machine learning Flow?"
   ]
  },
  {
   "cell_type": "markdown",
   "metadata": {},
   "source": [
    "##### Machine Learning in Practice\n",
    "Machine learning algorithms are only a very small part of using machine learning in practice as a data analyst or data scientist. In practice, the process often looks like:\n",
    "\n",
    "####Start Loop\n",
    "\n",
    "Understand the domain, prior knowledge and goals. Talk to domain experts. Often the goals are very unclear. You often have more things to try then you can possibly implement.\n",
    "\n",
    "Data integration, selection, cleaning and pre-processing. This is often the most time consuming part. It is important to have high quality data. The more data you have, the more it sucks because the data is dirty. Garbage in, garbage out.\n",
    "\n",
    "\n",
    "Learning models. The fun part. This part is very mature. The tools are general.\n",
    "\n",
    "Interpreting results. Sometimes it does not matter how the model works as long it delivers results. Other domains require that the model is understandable. You will be challenged by human experts.\n",
    "\n",
    "\n",
    "Consolidating and deploying discovered knowledge. The majority of projects that are successful in the lab are not used in practice. It is very hard to get something used.\n",
    "\n",
    "###End Loop\n",
    "\n",
    "It is not a one-shot process, it is a cycle. You need to run the loop until you get a result that you can use in practice. Also, the data can change, requiring a new loop.\n",
    "\n",
    "Some good link is there below for reference\n",
    "\n",
    "https://machinelearningmastery.com/basic-concepts-in-machine-learning/\n"
   ]
  },
  {
   "cell_type": "markdown",
   "metadata": {},
   "source": [
    "#### Understand the domain, prior knowledge and goals\n"
   ]
  },
  {
   "cell_type": "markdown",
   "metadata": {},
   "source": [
    "#### Data integration, selection, cleaning and pre-processing\n"
   ]
  },
  {
   "cell_type": "markdown",
   "metadata": {},
   "source": [
    "#### Learning models"
   ]
  },
  {
   "cell_type": "markdown",
   "metadata": {},
   "source": [
    "#### Interpreting results"
   ]
  },
  {
   "cell_type": "markdown",
   "metadata": {},
   "source": [
    "##### So i have doubt...I have some time series data?Then How to encode the same ..means how to pre processing the data as machine will knw either 0 or 1.\n",
    "\n",
    "Then how many types of Data is there?\n",
    "\n"
   ]
  },
  {
   "cell_type": "markdown",
   "metadata": {},
   "source": [
    "Application of Machine learning in OIl and Gas sector..\n",
    "\n",
    "https://www.linkedin.com/pulse/5-common-sense-analytics-oil-gas-jane-ren\n",
    "\n",
    "Application of Machine learning in Exommerce\n",
    "\n",
    "http://www.hbs.edu/faculty/Publication%20Files/kris%20Analytics%20for%20an%20Online%20Retailer_6ef5f3e6-48e7-4923-a2d4-607d3a3d943c.pdf\n",
    "    \n",
    "    \n",
    "    Predictive maintenance through Microsoft Azure..\n",
    "    \n",
    "    \n",
    "    https://docs.microsoft.com/en-us/azure/machine-learning/team-data-science-process/cortana-analytics-playbook-predictive-maintenance\n",
    "    "
   ]
  },
  {
   "cell_type": "markdown",
   "metadata": {},
   "source": [
    "Predictive maintenance through ML example in Azure machine R studion...\n",
    "\n",
    "\n",
    "https://gallery.cortanaintelligence.com/Experiment/Predictive-Maintenance-Modelling-Guide-Experiment-1\n",
    "    "
   ]
  },
  {
   "cell_type": "markdown",
   "metadata": {},
   "source": [
    "https://studio.azureml.net/Community?packageUri=https%3A%2F%2Fstorage.azureml.net%2Fdirectories%2F372ab9bbab2a47ada35301daa430f68e%2Fitems&communityUri=https%3A%2F%2Fgallery.cortanaintelligence.com%2FNotebook%2FPredictive-Maintenance-Modelling-Guide-Python-Notebook-1&entityType=Notebook&entityId=Predictive-Maintenance-Modelling-Guide-Python-Notebook-14\n",
    "    "
   ]
  },
  {
   "cell_type": "code",
   "execution_count": null,
   "metadata": {},
   "outputs": [],
   "source": [
    "Here related to Collaboration ...Prediction there is some process to follow..Here sample\n",
    "process follwed for Predictive Series Analytics refered in the MS azure plattform..\n",
    "\n",
    "\n",
    "Outline\n",
    "Problem Description\n",
    "Data Sources\n",
    "Telemetry\n",
    "Errors\n",
    "Maintenance\n",
    "Machines\n",
    "Failures\n",
    "Feature Engineering\n",
    "Lag Features from Telemetry\n",
    "Lag Features from Errors\n",
    "Days Since Last Replacement from Maintenance\n",
    "Machine Features\n",
    "Label Construction\n",
    "Modelling\n",
    "Training, Validation and Testing\n",
    "Evaluation\n",
    "Summary"
   ]
  },
  {
   "cell_type": "markdown",
   "metadata": {},
   "source": [
    "Nice topic related to different Data pre processing ,ike Normalization and Standaradisation..\n",
    "\n",
    "http://sebastianraschka.com/Articles/2014_about_feature_scaling.html#reading-in-the-dataset\n",
    "    "
   ]
  },
  {
   "cell_type": "markdown",
   "metadata": {},
   "source": [
    "Nice topic simple neural network...with deep learning also some Data pre processing idea..\n",
    "\n",
    "https://matrices.io/deep-neural-network-from-scratch/\n",
    "    "
   ]
  },
  {
   "cell_type": "code",
   "execution_count": null,
   "metadata": {},
   "outputs": [],
   "source": [
    "Scaling Vs Normalisation.\n",
    "\n",
    "\n",
    "\n",
    "Normalization vs. scaling\n",
    "up vote\n",
    "22\n",
    "down vote\n",
    "favorite\n",
    "11\n",
    "What is the difference between data 'Normalization' and data 'Scaling'? Till now I thought both terms refers to same process but now I realize there is something more that I don't know/understand. Also if there is a difference between Normalization and Scaling, when should we use Normalization but not Scaling and vice versa?\n",
    "\n",
    "Please elaborate with some example.\n",
    "\n",
    "data-transformation scales normality normalization\n",
    "shareciteimprove this question\n",
    "edited Sep 3 '12 at 11:33\n",
    "\n",
    "chl♦\n",
    "41.9k6150288\n",
    "asked Sep 3 '12 at 8:56\n",
    "\n",
    "d.putto\n",
    "3262412\n",
    "5\t \t\n",
    "Normalising typically means to transform your observations xx into f(x)f(x) (where ff is a measurable, typically continuous, function) such that they look normally distributed. Some examples of transformations for normalising data are power transformations. Scaling simply means f(x)=cxf(x)=cx, c∈Rc∈R, this is, multiplying your observations by a constant cc which changes the scale (for example from nanometers to kilometers). – user10525 Sep 3 '12 at 9:04 \n",
    "1\t \t\n",
    "Related / also of interest: whats-the-difference-between-normalization-and-standardizati‌​on. – gung♦ Sep 3 '12 at 13:54\n",
    "  \t \t\n",
    "normalisation is also a scaling method, same as standardisation – user26070 May 24 '13 at 10:44\n",
    "add a comment\n",
    "4 Answers\n",
    "active oldest votes\n",
    "up vote\n",
    "12\n",
    "down vote\n",
    "accepted\n",
    "I am not aware of an \"official\" definition and even if there it is, you shouldn't trust it as you will see it being used inconsistently in practice.\n",
    "\n",
    "This being said, scaling in statistics usually means a linear transformation of the form f(x)=ax+bf(x)=ax+b.\n",
    "\n",
    "Normalizing can either mean applying a transformation so that you transformed data is roughly normally distributed, but it can also simply mean putting different variables on a common scale. Standardizing, which means subtracting the mean and dividing by the standard deviation, is an example of the later usage. As you may see it's also an example of scaling. An example for the first would be taking the log for lognormal distributed data.\n",
    "\n",
    "But what you should take away is that when you read it you should look for a more precise description of what the author did. Sometimes you can get it from the context.\n",
    "\n",
    "shareciteimprove this answer\n",
    "answered Sep 3 '12 at 9:33\n",
    "\n",
    "Erik\n",
    "5,3361238\n",
    "add a comment\n",
    "up vote\n",
    "10\n",
    "down vote\n",
    "Scaling is a personal choice about making the numbers feel right, e.g. between zero and one, or one and a hundred. For example converting data given in millimeters to meters because it's more convenient, or imperial to metric.\n",
    "\n",
    "While normalisation is about scaling to an external 'standard' - the local norm - such as removing the mean value and dividing by the sample standard deviation, e.g. so that your sorted data can be compared with a cummulative normal, or a cummulative Poisson, or whatever.\n",
    "\n",
    "So if a lecturer or manager wants data 'normalised' it means \"re-scale it my way\" ;-)\n",
    "\n",
    "shareciteimprove this answer\n",
    "answered Sep 3 '12 at 12:05\n",
    "\n",
    "Philip Oakley\n",
    "28627\n",
    "add a comment\n",
    "up vote\n",
    "1\n",
    "down vote\n",
    "I don't know if you mean exactly this, but I see a lot of people referring to Normalization meaning data Standardization. Standardization is transforming your data so it has mean 0 and standard deviation 1:\n",
    "\n",
    "x <- (x - mean(x)) / sd(x)\n",
    "I also see people using the term Normalization for Data Scaling, as in transforming your data to a 0-1 range:\n",
    "\n",
    "x <- (x - min(x)) / (max(x) - min(x))\n",
    "It can be confusing!\n",
    "\n",
    "Both techniques have their pros and cons. When scaling a dataset with too many outliers, your non-outlier data might end up in a very small interval. So if your dataset has too many outliers, you might want to consider Standardizing it. Nonetheless, when you do that you will end up with negative data (sometimes you don't want that) and unbounded data (you might not want that either).\n",
    "\n",
    "shareciteimprove this answer\n",
    "answered May 25 at 22:04\n",
    "\n",
    "Renata\n",
    "1113\n",
    "add a comment\n",
    "up vote\n",
    "1\n",
    "down vote\n",
    "Centering means substacting the mean of the random variable from the variables. I.e x -xi\n",
    "\n",
    "Scalelling means dividing variable by its standard deviation. I.e xi /s\n",
    "\n",
    "Combination of the two is called normalization or standization. I.e x-xi/s\n",
    "\n",
    "shareciteimprove this answer\n",
    "answered Aug 2 at 2:48\n",
    "\n",
    "Frankfurt Ogunfunminiyi\n",
    "111\n",
    "  \t \t\n",
    "The question is a duplicate. – Michael Chernick Aug 2 at 3:22\n",
    "add a comment"
   ]
  },
  {
   "cell_type": "markdown",
   "metadata": {},
   "source": [
    "##### Continuous vs Categorical Data\n",
    "In general, variables (and data) either represent measurements on some continuous scale, or they represent information about some categorical or discrete characteristics.\n",
    "\n",
    "For example, the weight, height, and age of respondents in a survey would represent continuous variables; in industrial or medical applications, survival/failure times are also continuous variables. However, a person's gender, occupation, or marital status are categorical or discrete variables: either a person is male or female, never married, married, or divorced, etc.\n",
    "\n",
    "Some variables could be considered in either way. For example, a person's rating of someone else's attractiveness on a 4 point scale may be considered a continuous variable, or we may consider it a discrete variable with 4 categories.\n",
    "\n",
    "Time series data are usually collected for continuous variables, over time. For example, stock quotes for a particular stock over successive trading days represent a time series of data.\n",
    "\n",
    "http://www.statsoft.com/Textbook/Statistical-Advisor/Continuous-vs-Categorical-Data"
   ]
  },
  {
   "cell_type": "markdown",
   "metadata": {},
   "source": [
    "Nice blog in DATAQUEST about preparing and cleaning data for machine learning,..\n",
    "\n",
    "https://www.dataquest.io/blog/machine-learning-preparing-data/"
   ]
  },
  {
   "cell_type": "markdown",
   "metadata": {},
   "source": [
    "How to prepare Data for machine learning...Below are some good links to further sttudy.......\n",
    "\n",
    "https://docs.microsoft.com/en-us/azure/machine-learning/team-data-science-process/prepare-data\n",
    "\n",
    "https://www.altexsoft.com/blog/datascience/preparing-your-dataset-for-machine-learning-8-basic-techniques-that-make-your-data-better/\n",
    "\n",
    "https://machinelearningmastery.com/how-to-prepare-data-for-machine-learning/\n",
    "\n",
    "https://machinelearningmastery.com/prepare-data-machine-learning-python-scikit-learn/"
   ]
  },
  {
   "cell_type": "code",
   "execution_count": null,
   "metadata": {},
   "outputs": [],
   "source": []
  }
 ],
 "metadata": {
  "anaconda-cloud": {},
  "kernelspec": {
   "display_name": "Python 3",
   "language": "python",
   "name": "python3"
  },
  "language_info": {
   "codemirror_mode": {
    "name": "ipython",
    "version": 3
   },
   "file_extension": ".py",
   "mimetype": "text/x-python",
   "name": "python",
   "nbconvert_exporter": "python",
   "pygments_lexer": "ipython3",
   "version": "3.6.3"
  }
 },
 "nbformat": 4,
 "nbformat_minor": 2
}
